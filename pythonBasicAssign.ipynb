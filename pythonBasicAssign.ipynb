{
 "cells": [
  {
   "cell_type": "markdown",
   "id": "7f6b6926-b1bc-493b-a1b4-ae4d2f46d2e5",
   "metadata": {},
   "source": [
    "1. Swapping the values of two variables without using a temporary variable:"
   ]
  },
  {
   "cell_type": "code",
   "execution_count": 1,
   "id": "cf05eee7-1536-446f-9bed-147608040735",
   "metadata": {},
   "outputs": [],
   "source": [
    "x = 5\n",
    "y = 10"
   ]
  },
  {
   "cell_type": "code",
   "execution_count": 2,
   "id": "5afdd524-73d9-40c4-ad10-10a85b2ad82a",
   "metadata": {},
   "outputs": [
    {
     "name": "stdout",
     "output_type": "stream",
     "text": [
      "After swapping:\n",
      "x = 10\n",
      "y = 5\n"
     ]
    }
   ],
   "source": [
    "x, y = y, x  # Swapping values without a temporary variable\n",
    "print(\"After swapping:\")\n",
    "print(\"x =\", x)\n",
    "print(\"y =\", y)"
   ]
  },
  {
   "cell_type": "markdown",
   "id": "65ce6312-5625-435f-90e1-3dc97095834b",
   "metadata": {},
   "source": [
    "2. Calculating the area of a rectangle with user input:"
   ]
  },
  {
   "cell_type": "code",
   "execution_count": 5,
   "id": "7bc107f1-f611-4a7b-958c-8078901e0602",
   "metadata": {},
   "outputs": [
    {
     "name": "stdin",
     "output_type": "stream",
     "text": [
      "Enter the length of the rectangle:  55\n",
      "Enter the width of the rectangle:  3\n"
     ]
    }
   ],
   "source": [
    "# Taking input from the user\n",
    "length = float(input(\"Enter the length of the rectangle: \"))\n",
    "width = float(input(\"Enter the width of the rectangle: \"))"
   ]
  },
  {
   "cell_type": "code",
   "execution_count": 6,
   "id": "ec31cdfb-f9f5-40b6-8703-9e915bc1e461",
   "metadata": {},
   "outputs": [
    {
     "name": "stdout",
     "output_type": "stream",
     "text": [
      "The area of the rectangle is: 165.0\n"
     ]
    }
   ],
   "source": [
    "# Calculating the area\n",
    "area = length * width\n",
    "\n",
    "# Displaying the result\n",
    "print(\"The area of the rectangle is:\", area)"
   ]
  },
  {
   "cell_type": "markdown",
   "id": "eae0d163-aebc-40e0-a7d1-d6d01f7d0c59",
   "metadata": {},
   "source": [
    "3. Converting temperatures from Celsius to Fahrenheit:"
   ]
  },
  {
   "cell_type": "code",
   "execution_count": null,
   "id": "972c243d-f584-49bc-a825-79e1357202a4",
   "metadata": {},
   "outputs": [
    {
     "name": "stdin",
     "output_type": "stream",
     "text": [
      "Enter the temperature in Celsius:  45\n"
     ]
    },
    {
     "name": "stdout",
     "output_type": "stream",
     "text": [
      "Temperature in Fahrenheit: 113.0\n"
     ]
    }
   ],
   "source": [
    "# Taking input from the user in Celsius\n",
    "celsius = float(input(\"Enter the temperature in Celsius: \"))\n",
    "\n",
    "# Converting to Fahrenheit\n",
    "fahrenheit = (celsius * 9/5) + 32\n",
    "\n",
    "# Displaying the result\n",
    "print(\"Temperature in Fahrenheit:\", fahrenheit)"
   ]
  },
  {
   "cell_type": "markdown",
   "id": "c12d651d-80fd-4805-a490-d426197add9f",
   "metadata": {},
   "source": [
    "String Based Questions"
   ]
  },
  {
   "cell_type": "raw",
   "id": "7da37f66-cba6-4612-b644-df9bd9e047da",
   "metadata": {},
   "source": [
    "1. Finding the length of a string:"
   ]
  },
  {
   "cell_type": "code",
   "execution_count": 8,
   "id": "76618465-85c6-49ee-b5fd-7387536292b3",
   "metadata": {},
   "outputs": [
    {
     "name": "stdin",
     "output_type": "stream",
     "text": [
      "Enter a string:  rashmita\n"
     ]
    },
    {
     "name": "stdout",
     "output_type": "stream",
     "text": [
      "The length of the string is: 8\n"
     ]
    }
   ],
   "source": [
    "input_string = input(\"Enter a string: \")\n",
    "length = len(input_string)\n",
    "print(\"The length of the string is:\", length)"
   ]
  },
  {
   "cell_type": "raw",
   "id": "5f797fea-6f88-4bb4-83e0-ab14171986f8",
   "metadata": {},
   "source": [
    "2.Counting the number of vowels in a sentence:"
   ]
  },
  {
   "cell_type": "code",
   "execution_count": 9,
   "id": "73debcf6-a187-4182-bf20-bd341df6ee4c",
   "metadata": {},
   "outputs": [
    {
     "name": "stdin",
     "output_type": "stream",
     "text": [
      "Enter a sentence:  this is an elephant\n"
     ]
    },
    {
     "name": "stdout",
     "output_type": "stream",
     "text": [
      "The number of vowels in the sentence is: 6\n"
     ]
    }
   ],
   "source": [
    "sentence = input(\"Enter a sentence: \")\n",
    "vowel_count = sum(1 for char in sentence if char.lower() in 'aeiou')\n",
    "print(\"The number of vowels in the sentence is:\", vowel_count)"
   ]
  },
  {
   "cell_type": "raw",
   "id": "1fbdc809-2dad-4dd6-bf6d-2c2276a38dc7",
   "metadata": {},
   "source": [
    "3. Reversing a string using string slicing:"
   ]
  },
  {
   "cell_type": "code",
   "execution_count": 10,
   "id": "52064b1a-ef9f-47f1-9790-ad286bc9227c",
   "metadata": {},
   "outputs": [
    {
     "name": "stdin",
     "output_type": "stream",
     "text": [
      "Enter a string:  rashmita\n"
     ]
    },
    {
     "name": "stdout",
     "output_type": "stream",
     "text": [
      "Reversed string: atimhsar\n"
     ]
    }
   ],
   "source": [
    "input_string = input(\"Enter a string: \")\n",
    "reversed_string = input_string[::-1]\n",
    "print(\"Reversed string:\", reversed_string)"
   ]
  },
  {
   "cell_type": "raw",
   "id": "95788138-ad4e-4946-b15c-8a6de7fd895f",
   "metadata": {},
   "source": [
    "4. Checking if a string is a palindrome:"
   ]
  },
  {
   "cell_type": "code",
   "execution_count": 14,
   "id": "c01cf76d-dea8-4794-9736-fb588a8d6e71",
   "metadata": {},
   "outputs": [
    {
     "name": "stdin",
     "output_type": "stream",
     "text": [
      "Enter a string:  level\n"
     ]
    },
    {
     "name": "stdout",
     "output_type": "stream",
     "text": [
      "The string is a palindrome.\n"
     ]
    }
   ],
   "source": [
    "input_string = input(\"Enter a string: \")\n",
    "is_palindrome = input_string == input_string[::-1]\n",
    "if is_palindrome:\n",
    "    print(\"The string is a palindrome.\")\n",
    "else:\n",
    "    print(\"The string is not a palindrome.\")"
   ]
  },
  {
   "cell_type": "raw",
   "id": "a77d71c9-3e03-4c66-a14c-31af010e08af",
   "metadata": {},
   "source": [
    "5. Removing spaces from a string:"
   ]
  },
  {
   "cell_type": "code",
   "execution_count": 13,
   "id": "9d8965b9-b28b-4420-be58-9dab1c8f94e3",
   "metadata": {},
   "outputs": [
    {
     "name": "stdin",
     "output_type": "stream",
     "text": [
      "Enter a string with spaces:  r a sh m it a\n"
     ]
    },
    {
     "name": "stdout",
     "output_type": "stream",
     "text": [
      "String without spaces: rashmita\n"
     ]
    }
   ],
   "source": [
    "input_string = input(\"Enter a string with spaces: \")\n",
    "modified_string = input_string.replace(\" \", \"\")\n",
    "print(\"String without spaces:\", modified_string)"
   ]
  },
  {
   "cell_type": "code",
   "execution_count": null,
   "id": "5e0e91a7-28f6-4e2d-9bd1-cb3cd2e40b1d",
   "metadata": {},
   "outputs": [],
   "source": []
  }
 ],
 "metadata": {
  "kernelspec": {
   "display_name": "Python 3 (ipykernel)",
   "language": "python",
   "name": "python3"
  },
  "language_info": {
   "codemirror_mode": {
    "name": "ipython",
    "version": 3
   },
   "file_extension": ".py",
   "mimetype": "text/x-python",
   "name": "python",
   "nbconvert_exporter": "python",
   "pygments_lexer": "ipython3",
   "version": "3.10.8"
  }
 },
 "nbformat": 4,
 "nbformat_minor": 5
}
